{
 "cells": [
  {
   "cell_type": "markdown",
   "metadata": {},
   "source": [
    "# Lab. 2"
   ]
  },
  {
   "cell_type": "code",
   "execution_count": null,
   "metadata": {},
   "outputs": [],
   "source": [
    "import numpy as np\n",
    "import matplotlib.pyplot as plt\n",
    "import pandas as pd"
   ]
  },
  {
   "cell_type": "markdown",
   "metadata": {},
   "source": [
    "### Data preparation"
   ]
  },
  {
   "cell_type": "code",
   "execution_count": null,
   "metadata": {},
   "outputs": [],
   "source": [
    "functions = [           # 1\n",
    "    lambda x: 5 * x**3 - 2 * x**2 + 3 * x - 17,\n",
    "    lambda x: np.sin(x) + np.cos(x),\n",
    "    lambda x: 2 * np.log(x + 1),\n",
    "    lambda x, y: x + 2 * y,\n",
    "    lambda x, y: np.sin(x / 2) + 2 * np.cos(x),\n",
    "    lambda x, y: x**2 + 3 * x * y - 7 * y + 1,\n",
    "] + (\n",
    "    new_functions := [  # 2\n",
    "        lambda x: np.sin(x + 3.141592 / 2),\n",
    "        lambda x: np.tan(2 * x + 1),\n",
    "    ]\n",
    ")"
   ]
  },
  {
   "cell_type": "code",
   "execution_count": null,
   "metadata": {},
   "outputs": [],
   "source": [
    "asymptote = lambda n: np.round(-np.pi / 4 - 1 / 2 + np.pi * n / 2, 2) # 2\n",
    "\n",
    "domains = [             # 1\n",
    "    [(-10, 10), (0, 100), (-1, 1), (-1000, 1000)],\n",
    "    [(-3.14, 3.14), (0, 7), (0, 100), (-100, 100)],\n",
    "    [(0, 4), (0, 9), (0, 99), (0, 999)],\n",
    "    [(0, 1), (-10, 10), (0, 100), (-1000, 1000)],\n",
    "    [(-3.14, 3.14), (0, 7), (0, 100), (-100, 100)],\n",
    "    [(-10, 10), (0, 100), (-1, 1), (-1000, 1000)],\n",
    "] + (\n",
    "    new_domains := [    # 2\n",
    "        [(0, 6.28), (-3.14, 3.14), (-1.57, 4.71), (-1000, 1000)],\n",
    "        [(asymptote(0.01), asymptote(0.99)), (-3.14, 3.14), (-1.57, 1.57)],\n",
    "    ]\n",
    ")"
   ]
  },
  {
   "cell_type": "code",
   "execution_count": null,
   "metadata": {},
   "outputs": [],
   "source": [
    "import os\n",
    "import subprocess"
   ]
  },
  {
   "cell_type": "code",
   "execution_count": null,
   "metadata": {},
   "outputs": [],
   "source": [
    "for i, (function, domains_) in enumerate(zip(new_functions, new_domains)):\n",
    "    for domain in domains_:\n",
    "        X = np.linspace(*domain, (n if (n := int(100 * abs(domain[1] - domain[0]))) < 1001 else 1000)).round(2)\n",
    "        Y = function(X).round(2)\n",
    "        filename = f\"1_{i+7}__{domain[0]}_{domain[1]}.dat\"\n",
    "        with open(f\"data\\input\\{filename}\", \"a\") as f:\n",
    "            f.write(f\"1 100 -5 6 {X.shape[0]}\\n\")\n",
    "        pd.DataFrame({\"X\": X, \"Y\": Y}).to_csv(\n",
    "            f\"data\\input\\{filename}\", index=False, header=False, sep=\" \", mode=\"a\"\n",
    "        )"
   ]
  },
  {
   "cell_type": "code",
   "execution_count": null,
   "metadata": {},
   "outputs": [],
   "source": [
    "input_filenames = os.listdir(\"data\\input\")"
   ]
  },
  {
   "cell_type": "code",
   "execution_count": null,
   "metadata": {},
   "outputs": [],
   "source": [
    "def get_domain_from_filename(filename):\n",
    "    return tuple(map(float, \".\".join(filename.split('.')[:-1]).split('__')[1].split('_')))\n",
    "\n",
    "def get_domain_length_from_filename(filename):\n",
    "    domain = get_domain_from_filename(filename)\n",
    "    return abs(domain[1] - domain[0])\n",
    "\n",
    "def get_problem_solving_threshold_from_filename(filename):\n",
    "    domain_length = get_domain_length_from_filename(filename)\n",
    "    return domain_length * 0.21"
   ]
  },
  {
   "cell_type": "code",
   "execution_count": null,
   "metadata": {},
   "outputs": [],
   "source": [
    "for input_file in input_filenames:\n",
    "    output_file = \".\".join(input_file.split('.')[:-1]) + '.out'\n",
    "    problem_solved_threshold = get_problem_solving_threshold_from_filename(input_file)\n",
    "    print(\n",
    "        command := f\"copy NUL data\\output\\with_sin_cos\\{output_file} & cd TinyGP & java TinyGP.java ..\\data\\input\\{input_file} {problem_solved_threshold} > ..\\data\\output\\with_sin_cos\\{output_file} & cd ..\"\n",
    "    )\n",
    "    t = subprocess.run(command, shell=True)"
   ]
  },
  {
   "cell_type": "markdown",
   "metadata": {},
   "source": [
    "### Output parsing"
   ]
  },
  {
   "cell_type": "code",
   "execution_count": null,
   "metadata": {},
   "outputs": [],
   "source": [
    "import re\n",
    "import json"
   ]
  },
  {
   "cell_type": "code",
   "execution_count": null,
   "metadata": {},
   "outputs": [],
   "source": [
    "from numpy import sin, cos\n",
    "\n",
    "def dictify(log):\n",
    "    return (\n",
    "        log.replace(\"AvgFitness\", '{\"avg_fitness\"')\n",
    "        .replace(\"BestFitness\", ', \"best_fitness\"')\n",
    "        .replace(\"AvgSize\", ', \"avg_size\"')\n",
    "        .replace(\"BestIndividual:\", ', \"best_individual\": \"')\n",
    "        .replace(\"\\n\", \" \")\n",
    "        .replace(\"=\", \": \")\n",
    "        .replace(\"X1\", \"X\")\n",
    "        .replace(\"X2\", \"Y\")\n",
    "        .replace(\"SIN\", \"sin\")\n",
    "        .replace(\"COS\", \"cos\")\n",
    "        .replace(\"PROBLEM*NOT*SOLVED\", \"\")\n",
    "        .replace(\"PROBLEMSOLVED\", \"\")\n",
    "        + '\"}'\n",
    "    )"
   ]
  },
  {
   "cell_type": "code",
   "execution_count": null,
   "metadata": {},
   "outputs": [],
   "source": [
    "def logs_to_df(logs):\n",
    "    generations = {\n",
    "        int(log.split(\" \")[0][1:]): \"\".join(log.split(\" \")[1:])\n",
    "        for log in re.split(\"Generation\", logs)[1:]\n",
    "    }\n",
    "    for k, v in generations.items():\n",
    "        generations[k] = json.loads(dictify(v))\n",
    "    return pd.DataFrame().from_dict(generations, orient=\"index\")"
   ]
  },
  {
   "cell_type": "markdown",
   "metadata": {},
   "source": [
    "### Simplification"
   ]
  },
  {
   "cell_type": "code",
   "execution_count": null,
   "metadata": {},
   "outputs": [],
   "source": [
    "import sympy as sp\n",
    "import inspect"
   ]
  },
  {
   "cell_type": "code",
   "execution_count": null,
   "metadata": {},
   "outputs": [],
   "source": [
    "def simplify(expression):\n",
    "    return str(sp.simplify(expression))"
   ]
  },
  {
   "cell_type": "markdown",
   "metadata": {},
   "source": [
    "### Comparison"
   ]
  },
  {
   "cell_type": "code",
   "execution_count": null,
   "metadata": {},
   "outputs": [],
   "source": [
    "def compare(function, domain, df, size=(8, 8)):\n",
    "    X = np.linspace(*domain, int(100 * abs(domain[1] - domain[0])))\n",
    "    Y_true = function(X)\n",
    "\n",
    "    best_individual = df.iloc[-1, -1]\n",
    "    Y_gp = eval(best_individual)\n",
    "\n",
    "    plt.figure(figsize=size)\n",
    "    plt.plot(X, Y_true, label=\"True\", linestyle=\"-\", color=\"black\", linewidth=4, alpha=0.5)\n",
    "    plt.plot(X, Y_gp, label=\"GP\", linestyle=\"-\", color=\"red\", linewidth=1)\n",
    "    plt.legend()\n",
    "    plt.title(\n",
    "        inspect.getsource(function)\n",
    "        .replace(\"lambda x:\", \"f(x) =\")\n",
    "        .replace(\",\", \"\")\n",
    "        .replace(\"np.\", \"\")\n",
    "        + f\"\\nx ∈ [{domain[0]}, {domain[1]}]\"\n",
    "\n",
    "    )\n",
    "    plt.grid()\n",
    "    plt.show()\n",
    "    print(f\"Simplified best individual: {simplify(best_individual)}\")"
   ]
  },
  {
   "cell_type": "code",
   "execution_count": null,
   "metadata": {},
   "outputs": [],
   "source": [
    "def compare_2_var(function, domain, df, size=(8, 8)):\n",
    "    X, Y = np.meshgrid(np.linspace(*domain, 100), np.linspace(*domain, 100))\n",
    "    Z_true = function(X.ravel(), Y.ravel())\n",
    "\n",
    "    best_individual = df.iloc[-1, -1]\n",
    "    Z_gp = eval(best_individual)\n",
    "\n",
    "    plt.figure(figsize=size)\n",
    "    ax = plt.axes(projection=\"3d\")\n",
    "    ax.plot_surface(\n",
    "        X,\n",
    "        Y,\n",
    "        Z_true.reshape(X.shape),\n",
    "        label=\"True\",\n",
    "        color=\"gray\",\n",
    "        linewidth=2,\n",
    "        alpha=0.5,\n",
    "    )\n",
    "    ax.plot_surface(\n",
    "        X, \n",
    "        Y, \n",
    "        Z_gp.reshape(X.shape), \n",
    "        label=\"GP\", \n",
    "        color=\"red\", \n",
    "        linewidth=1, \n",
    "        alpha=0.5\n",
    "    )\n",
    "    plt.legend()\n",
    "    plt.title(\n",
    "        inspect.getsource(function)\n",
    "        .replace(\",\", \"\")\n",
    "        .replace(\"lambda x y:\", \"f(x, y) =\")\n",
    "        .replace(\"np.\", \"\")\n",
    "        + f\"\\nx ∈ [{domain[0]}, {domain[1]}], y ∈ [{domain[0]}, {domain[1]}]\"\n",
    "    )\n",
    "    plt.grid()\n",
    "    plt.show()\n",
    "    print(f\"Simplified best individual: {simplify(best_individual)}\")"
   ]
  },
  {
   "cell_type": "code",
   "execution_count": null,
   "metadata": {},
   "outputs": [],
   "source": [
    "def compare_2_var_3_views(function, domain, df, size=(12, 5)):\n",
    "    X, Y = np.meshgrid(np.linspace(*domain, 100), np.linspace(*domain, 100))\n",
    "    Z_true = function(X.ravel(), Y.ravel())\n",
    "\n",
    "    best_individual = df.iloc[-1, -1]\n",
    "    Z_gp = eval(best_individual)\n",
    "\n",
    "    fig = plt.figure(figsize=size)\n",
    "    fig.suptitle(\n",
    "        inspect.getsource(function)\n",
    "        .replace(\",\", \"\")\n",
    "        .replace(\"lambda x y:\", \"f(x, y) =\")\n",
    "        .replace(\"np.\", \"\")\n",
    "        + f\"\\nx ∈ [{domain[0]}, {domain[1]}], y ∈ [{domain[0]}, {domain[1]}]\"\n",
    "    )\n",
    "\n",
    "    ax = fig.add_subplot(1, 3, 1, projection='3d')\n",
    "\n",
    "    surf1 = ax.plot_surface(X, Y, Z_true.reshape(X.shape), rstride=1, cstride=1,\n",
    "                        linewidth=0, antialiased=False, color=\"gray\", alpha=0.5, label=\"True\")\n",
    "\n",
    "    surf2 = ax.plot_surface(X, Y, Z_gp.reshape(X.shape), rstride=1, cstride=1,\n",
    "                    linewidth=0, antialiased=False, color=\"red\", alpha=0.5, label=\"GP\")\n",
    "    ax.xaxis.set_label_text(\"X\")\n",
    "    ax.yaxis.set_label_text(\"Y\")\n",
    "    ax.zaxis.set_label_text(\"Z\")\n",
    "\n",
    "\n",
    "    ax = fig.add_subplot(1, 3, 2, projection='3d')\n",
    "    surf1 = ax.plot_surface(X, Y, Z_true.reshape(X.shape), rstride=1, cstride=1,\n",
    "                    linewidth=0, antialiased=False, color=\"gray\", alpha=0.5, label=\"True\")\n",
    "\n",
    "    surf2 = ax.plot_surface(X, Y, Z_gp.reshape(X.shape), rstride=1, cstride=1,\n",
    "                    linewidth=0, antialiased=False, color=\"red\", alpha=0.5, label=\"GP\")\n",
    "    ax.xaxis.set_label_text(\"X\")\n",
    "    ax.yaxis.set_label_text(\"Y\")\n",
    "    ax.zaxis.set_label_text(\"Z\")\n",
    "    ax.view_init(azim=90) \n",
    "\n",
    "\n",
    "    ax = fig.add_subplot(1, 3, 3, projection='3d')\n",
    "    surf1 = ax.plot_surface(X, Y, Z_true.reshape(X.shape), rstride=1, cstride=1,\n",
    "                    linewidth=0, antialiased=False, color=\"gray\", alpha=0.5, label=\"True\")\n",
    "\n",
    "    surf2 = ax.plot_surface(X, Y, Z_gp.reshape(X.shape), rstride=1, cstride=1,\n",
    "                    linewidth=0, antialiased=False, color=\"red\", alpha=0.5, label=\"GP\")\n",
    "    ax.xaxis.set_label_text(\"X\")\n",
    "    ax.yaxis.set_label_text(\"Y\")\n",
    "    ax.zaxis.set_label_text(\"Z\")\n",
    "    ax.view_init(azim=180)\n",
    "\n",
    "    plt.grid()\n",
    "    plt.legend()\n",
    "    plt.show()\n",
    "    print(f\"Simplified best individual: {simplify(best_individual)}\")\n"
   ]
  },
  {
   "cell_type": "code",
   "execution_count": null,
   "metadata": {},
   "outputs": [],
   "source": [
    "def show_fitness_process(df):\n",
    "    f, a = plt.subplots(2)\n",
    "    a[0].plot(\n",
    "        df[\"avg_fitness\"], label=\"avg_fitness\", linestyle=\"-\", color=\"red\", linewidth=1\n",
    "    )\n",
    "    a[0].legend()\n",
    "    a[0].grid()\n",
    "    a[1].plot(\n",
    "        df[\"best_fitness\"],\n",
    "        label=\"best_fitness\",\n",
    "        linestyle=\"-\",\n",
    "        color=\"blue\",\n",
    "        linewidth=1,\n",
    "    )\n",
    "    a[1].legend()\n",
    "    a[1].grid()\n",
    "    a[0].title.set_text(\"fitness(generation)\")\n",
    "    plt.show()"
   ]
  },
  {
   "cell_type": "code",
   "execution_count": null,
   "metadata": {},
   "outputs": [],
   "source": [
    "for i, (function, domains_) in enumerate(zip(functions, domains)):\n",
    "    print(\n",
    "        f'Function {i+1}: {inspect.getsource(function).replace(\"lambda x:\", \"f(x) =\").replace(\"lambda x, y:\", \"f(x, y) =\")}'\n",
    "    )\n",
    "    for domain in domains_:\n",
    "\n",
    "        with open(f\"data/output/with_sin_cos/1_{i+1}__{domain[0]}_{domain[1]}.out\", \"r\") as f:\n",
    "            logs = f.read()\n",
    "\n",
    "        df = logs_to_df(logs)\n",
    "\n",
    "        if i in [3, 4, 5]:\n",
    "            compare_2_var_3_views(function, domain, df)\n",
    "        else:\n",
    "            compare(function, domain, df, size=(6, 6))\n",
    "\n",
    "        # show_fitness_process(df)"
   ]
  },
  {
   "cell_type": "markdown",
   "metadata": {},
   "source": [
    "### BTC course vs. TinyGP "
   ]
  },
  {
   "cell_type": "code",
   "execution_count": null,
   "metadata": {},
   "outputs": [],
   "source": [
    "btc_df = pd.read_csv(\"data/other/btc.csv\")\n",
    "btc_df.sort_values(by=\"Date\", inplace=True)\n",
    "btc_df.reset_index(drop=True, inplace=True)\n",
    "btc_df.head()"
   ]
  },
  {
   "cell_type": "code",
   "execution_count": null,
   "metadata": {},
   "outputs": [],
   "source": [
    "BTC_FILENAME = \"btc.dat\"\n",
    "BTC_DIR = \"data/other/btc.dat\"\n",
    "\n",
    "with open(BTC_DIR, \"a\") as f:\n",
    "    f.write(f\"1 100 -10 10 {btc_df.index.size}\\n\")\n",
    "\n",
    "btc_df[[\"Price\"]].apply(lambda x: x.str.replace(\",\", \"\")).to_csv(\n",
    "    BTC_DIR, index=True, header=False, sep=\" \", mode=\"a\"\n",
    ")"
   ]
  },
  {
   "cell_type": "code",
   "execution_count": null,
   "metadata": {},
   "outputs": [],
   "source": [
    "input_file = BTC_FILENAME\n",
    "output_file = \".\".join(input_file.split(\".\")[:-1]) + \".out\"\n",
    "print(\n",
    "    command := f\"copy NUL data\\other\\{output_file} & cd TinyGP & java TinyGP.java ..\\data\\other\\{input_file} > ..\\data\\other\\{output_file} & cd ..\"\n",
    ")\n",
    "subprocess.run(command, shell=True)"
   ]
  },
  {
   "cell_type": "code",
   "execution_count": null,
   "metadata": {},
   "outputs": [],
   "source": [
    "with open(f\"data/other/{output_file}\", \"r\") as f:\n",
    "    logs = f.read()\n",
    "\n",
    "tinygp_btc_df = logs_to_df(logs)"
   ]
  },
  {
   "cell_type": "code",
   "execution_count": null,
   "metadata": {},
   "outputs": [],
   "source": [
    "X = np.arange(btc_df.index.start, btc_df.index.stop, btc_df.index.step)\n",
    "Y_true = btc_df[\"Price\"].str.replace(\",\", \"\").astype(float)\n",
    "Y_gp = eval(tinygp_btc_df[\"best_individual\"].iloc[-1])\n",
    "\n",
    "plt.figure(figsize=(12, 6))\n",
    "plt.plot(X, Y_true, label=\"True\", linestyle=\"-\", color=\"black\", linewidth=4, alpha=0.5)\n",
    "plt.plot(X, Y_gp, label=\"GP\", linestyle=\"-\", color=\"red\", linewidth=1)\n",
    "plt.ylabel(\"Price [USD]\")\n",
    "plt.xlabel(\"Days (since 23/05/2023)\")\n",
    "plt.legend()\n",
    "plt.title(\"BTC price\")\n",
    "plt.grid()\n",
    "plt.show()"
   ]
  }
 ],
 "metadata": {
  "kernelspec": {
   "display_name": "env",
   "language": "python",
   "name": "python3"
  },
  "language_info": {
   "codemirror_mode": {
    "name": "ipython",
    "version": 3
   },
   "file_extension": ".py",
   "mimetype": "text/x-python",
   "name": "python",
   "nbconvert_exporter": "python",
   "pygments_lexer": "ipython3",
   "version": "3.10.8"
  }
 },
 "nbformat": 4,
 "nbformat_minor": 2
}
